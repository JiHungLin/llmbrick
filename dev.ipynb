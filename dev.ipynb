{
 "cells": [
  {
   "cell_type": "markdown",
   "id": "646fa552",
   "metadata": {},
   "source": [
    "# Brick"
   ]
  },
  {
   "cell_type": "code",
   "execution_count": null,
   "id": "b04922a3",
   "metadata": {},
   "outputs": [],
   "source": [
    "from llmbrick.core.brick import BaseBrick\n",
    "import nest_asyncio\n",
    "\n",
    "class LLMBrick(BaseBrick[str, str]):\n",
    "    pass\n",
    "\n",
    "\n",
    "llm = LLMBrick()\n",
    "\n",
    "@llm.unary()\n",
    "async def input(prompt: str) -> str:\n",
    "    \"\"\"\n",
    "    Input a string from the user.\n",
    "\n",
    "    Args:\n",
    "        prompt (str): The prompt to display to the user.\n",
    "\n",
    "    Returns:\n",
    "        str: The input string provided by the user.\n",
    "    \"\"\"\n",
    "    return f\"user input: {prompt}\"\n",
    "\n",
    "\n",
    "    # 在 Jupyter Notebook 中運行 async 函數可以使用 asyncio.run 或 nest_asyncio\n",
    "nest_asyncio.apply()\n",
    "\n",
    "result = await llm.run_unary(\"What is your name? \")\n",
    "print(result)\n"
   ]
  },
  {
   "cell_type": "code",
   "execution_count": null,
   "id": "370ba341",
   "metadata": {},
   "outputs": [],
   "source": [
    "result = await llm.run_unary(\"請輸入內容：\")\n",
    "print(result)"
   ]
  },
  {
   "cell_type": "code",
   "execution_count": null,
   "id": "ce7a1c49",
   "metadata": {},
   "outputs": [],
   "source": [
    "from llmbrick.core.brick import BaseBrick, unary_handler\n",
    "import nest_asyncio\n",
    "\n",
    "\n",
    "class MyNewBrick(BaseBrick[str, str]):\n",
    "    def __init__(self, some_param: str, **kwargs):\n",
    "        super().__init__(**kwargs)\n",
    "        self.some_param = some_param\n",
    "    \n",
    "    @unary_handler\n",
    "    async def process(self, input_data: str) -> str:\n",
    "        \"\"\"\n",
    "        Process the input data and return a string.\n",
    "\n",
    "        Args:\n",
    "            input_data (str): The input data to process.\n",
    "\n",
    "        Returns:\n",
    "            str: The processed output.\n",
    "        \"\"\"\n",
    "        return f\"Processed: {input_data} with param {self.some_param}\"\n",
    "    \n",
    "nest_asyncio.apply()\n",
    "\n",
    "brick = MyNewBrick(some_param=\"example\")\n",
    "\n",
    "result = await brick.run_unary(\"What is your name? \")\n",
    "print(result)\n"
   ]
  },
  {
   "cell_type": "code",
   "execution_count": null,
   "id": "6fae6b0e",
   "metadata": {},
   "outputs": [],
   "source": [
    "from llmbrick.bricks.llm.base_llm import LLMBrick\n",
    "\n",
    "my_llm = LLMBrick(\"123123\")\n",
    "@my_llm.bidi_streaming()\n",
    "async def bidi_streaming_handler(input_stream):\n",
    "    async for input_data in input_stream:\n",
    "        yield f\"Processed: {input_data}\"\n"
   ]
  },
  {
   "cell_type": "markdown",
   "id": "3bac2a60",
   "metadata": {},
   "source": [
    "# Logging"
   ]
  },
  {
   "cell_type": "code",
   "execution_count": null,
   "id": "d2e0ca04",
   "metadata": {},
   "outputs": [],
   "source": [
    "from llmbrick.utils.logging import log_function\n",
    "\n",
    "# info: This will log the function call with the specified service name and level.\n",
    "@log_function(service_name=\"math_service\", level=\"info\")\n",
    "def add(a: int, b: int) -> int:\n",
    "    return a + b\n",
    "\n",
    "r1 = add(1, 2)\n",
    "\n",
    "# warning: This will log the function call with the specified service name and level.\n",
    "@log_function(service_name=\"math_service\", level=\"warning\")\n",
    "def subtract(a: int, b: int) -> int:\n",
    "    return a - b\n",
    "\n",
    "r2 = subtract(5, 3)\n",
    "\n",
    "\n",
    "# error: This will log the function\n",
    "@log_function(service_name=\"math_service\", level=\"error\")\n",
    "def divide(a: int, b: int) -> float:\n",
    "    if b == 0:\n",
    "        raise ValueError(\"Division by zero is not allowed.\")\n",
    "    return a / b\n",
    "\n",
    "try:\n",
    "    r2 = divide(10, 0)\n",
    "except ValueError as e:\n",
    "    print(f\"Error occurred: {e}\")  "
   ]
  },
  {
   "cell_type": "markdown",
   "id": "91737a6b",
   "metadata": {},
   "source": []
  }
 ],
 "metadata": {
  "kernelspec": {
   "display_name": "Python 3",
   "language": "python",
   "name": "python3"
  },
  "language_info": {
   "codemirror_mode": {
    "name": "ipython",
    "version": 3
   },
   "file_extension": ".py",
   "mimetype": "text/x-python",
   "name": "python",
   "nbconvert_exporter": "python",
   "pygments_lexer": "ipython3",
   "version": "3.11.13"
  }
 },
 "nbformat": 4,
 "nbformat_minor": 5
}
