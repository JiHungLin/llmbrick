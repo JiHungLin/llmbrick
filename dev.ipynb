{
 "cells": [
  {
   "cell_type": "code",
   "execution_count": 1,
   "id": "b04922a3",
   "metadata": {},
   "outputs": [
    {
     "name": "stdout",
     "output_type": "stream",
     "text": [
      "[Unary] Before process\n",
      "[Unary] After process\n",
      "user input: What is your name? \n"
     ]
    }
   ],
   "source": [
    "from llmbrick.core.brick import BaseBrick\n",
    "import nest_asyncio\n",
    "\n",
    "class LLMBrick(BaseBrick[str, str]):\n",
    "    pass\n",
    "\n",
    "\n",
    "llm = LLMBrick()\n",
    "\n",
    "@llm.unary()\n",
    "async def input(prompt: str) -> str:\n",
    "    \"\"\"\n",
    "    Input a string from the user.\n",
    "\n",
    "    Args:\n",
    "        prompt (str): The prompt to display to the user.\n",
    "\n",
    "    Returns:\n",
    "        str: The input string provided by the user.\n",
    "    \"\"\"\n",
    "    return f\"user input: {prompt}\"\n",
    "\n",
    "\n",
    "    # 在 Jupyter Notebook 中運行 async 函數可以使用 asyncio.run 或 nest_asyncio\n",
    "nest_asyncio.apply()\n",
    "\n",
    "result = await llm.run_unary(\"What is your name? \")\n",
    "print(result)\n"
   ]
  },
  {
   "cell_type": "code",
   "execution_count": 2,
   "id": "370ba341",
   "metadata": {},
   "outputs": [
    {
     "name": "stdout",
     "output_type": "stream",
     "text": [
      "[Unary] Before process\n",
      "[Unary] After process\n",
      "user input: 請輸入內容：\n"
     ]
    }
   ],
   "source": [
    "result = await llm.run_unary(\"請輸入內容：\")\n",
    "print(result)"
   ]
  },
  {
   "cell_type": "code",
   "execution_count": null,
   "id": "ce7a1c49",
   "metadata": {},
   "outputs": [],
   "source": []
  }
 ],
 "metadata": {
  "kernelspec": {
   "display_name": "Python 3",
   "language": "python",
   "name": "python3"
  },
  "language_info": {
   "codemirror_mode": {
    "name": "ipython",
    "version": 3
   },
   "file_extension": ".py",
   "mimetype": "text/x-python",
   "name": "python",
   "nbconvert_exporter": "python",
   "pygments_lexer": "ipython3",
   "version": "3.11.13"
  }
 },
 "nbformat": 4,
 "nbformat_minor": 5
}
