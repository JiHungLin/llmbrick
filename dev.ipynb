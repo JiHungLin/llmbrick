{
 "cells": [
  {
   "cell_type": "markdown",
   "id": "646fa552",
   "metadata": {},
   "source": [
    "# Brick"
   ]
  },
  {
   "cell_type": "code",
   "execution_count": 1,
   "id": "b04922a3",
   "metadata": {},
   "outputs": [
    {
     "name": "stderr",
     "output_type": "stream",
     "text": [
      "\u001b[32m2025-07-24 20:48:11\u001b[0m | \u001b[1mINFO    2301058\u001b[0m | \u001b[36mllmbrick\u001b[0m:\u001b[36masync_wrapper\u001b[0m:\u001b[36m108\u001b[0m - \u001b[1m[LLMBrick-Unary] [wrapper] input: args=('What is your name? ',), kwargs={}\u001b[0m\n",
      "\u001b[32m2025-07-24 20:48:11\u001b[0m | \u001b[1mINFO    2301058\u001b[0m | \u001b[36mllmbrick\u001b[0m:\u001b[36masync_wrapper\u001b[0m:\u001b[36m112\u001b[0m - \u001b[1m[LLMBrick-Unary] [wrapper] output: user input: What is your name? \u001b[0m\n"
     ]
    },
    {
     "name": "stdout",
     "output_type": "stream",
     "text": [
      "Logger 'llmbrick' (ID: llmbrick): Console only mode\n",
      "user input: What is your name? \n"
     ]
    }
   ],
   "source": [
    "from llmbrick.core.brick import BaseBrick\n",
    "import nest_asyncio\n",
    "\n",
    "class LLMBrick(BaseBrick[str, str]):\n",
    "    pass\n",
    "\n",
    "\n",
    "llm = LLMBrick()\n",
    "\n",
    "@llm.unary()\n",
    "async def input(prompt: str) -> str:\n",
    "    \"\"\"\n",
    "    Input a string from the user.\n",
    "\n",
    "    Args:\n",
    "        prompt (str): The prompt to display to the user.\n",
    "\n",
    "    Returns:\n",
    "        str: The input string provided by the user.\n",
    "    \"\"\"\n",
    "    return f\"user input: {prompt}\"\n",
    "\n",
    "\n",
    "    # 在 Jupyter Notebook 中運行 async 函數可以使用 asyncio.run 或 nest_asyncio\n",
    "nest_asyncio.apply()\n",
    "\n",
    "result = await llm.run_unary(\"What is your name? \")\n",
    "print(result)\n"
   ]
  },
  {
   "cell_type": "code",
   "execution_count": null,
   "id": "370ba341",
   "metadata": {},
   "outputs": [],
   "source": [
    "result = await llm.run_unary(\"請輸入內容：\")\n",
    "print(result)"
   ]
  },
  {
   "cell_type": "code",
   "execution_count": 2,
   "id": "ce7a1c49",
   "metadata": {},
   "outputs": [
    {
     "name": "stdout",
     "output_type": "stream",
     "text": [
      "Processed: What is your name?  with param example\n"
     ]
    }
   ],
   "source": [
    "from llmbrick.core.brick import BaseBrick, unary_handler\n",
    "import nest_asyncio\n",
    "\n",
    "\n",
    "class MyNewBrick(BaseBrick[str, str]):\n",
    "    def __init__(self, some_param: str, **kwargs):\n",
    "        super().__init__(**kwargs)\n",
    "        self.some_param = some_param\n",
    "    \n",
    "    @unary_handler\n",
    "    async def process(self, input_data: str) -> str:\n",
    "        \"\"\"\n",
    "        Process the input data and return a string.\n",
    "\n",
    "        Args:\n",
    "            input_data (str): The input data to process.\n",
    "\n",
    "        Returns:\n",
    "            str: The processed output.\n",
    "        \"\"\"\n",
    "        return f\"Processed: {input_data} with param {self.some_param}\"\n",
    "    \n",
    "nest_asyncio.apply()\n",
    "\n",
    "brick = MyNewBrick(some_param=\"example\")\n",
    "\n",
    "result = await brick.run_unary(\"What is your name? \")\n",
    "print(result)\n"
   ]
  },
  {
   "cell_type": "code",
   "execution_count": 3,
   "id": "6fae6b0e",
   "metadata": {},
   "outputs": [
    {
     "name": "stderr",
     "output_type": "stream",
     "text": [
      "/tmp/ipykernel_2301058/2243463879.py:4: DeprecationWarning: Call to deprecated method bidi_streaming. (LLMBrick does not support bidi_streaming handler.)\n",
      "  @my_llm.bidi_streaming()\n"
     ]
    },
    {
     "ename": "NotImplementedError",
     "evalue": "LLMBrick does not support bidi_streaming handler.",
     "output_type": "error",
     "traceback": [
      "\u001b[31m---------------------------------------------------------------------------\u001b[39m",
      "\u001b[31mNotImplementedError\u001b[39m                       Traceback (most recent call last)",
      "\u001b[36mCell\u001b[39m\u001b[36m \u001b[39m\u001b[32mIn[3]\u001b[39m\u001b[32m, line 4\u001b[39m\n\u001b[32m      1\u001b[39m \u001b[38;5;28;01mfrom\u001b[39;00m\u001b[38;5;250m \u001b[39m\u001b[34;01mllmbrick\u001b[39;00m\u001b[34;01m.\u001b[39;00m\u001b[34;01mbricks\u001b[39;00m\u001b[34;01m.\u001b[39;00m\u001b[34;01mllm\u001b[39;00m\u001b[34;01m.\u001b[39;00m\u001b[34;01mbase_llm\u001b[39;00m\u001b[38;5;250m \u001b[39m\u001b[38;5;28;01mimport\u001b[39;00m LLMBrick\n\u001b[32m      3\u001b[39m my_llm = LLMBrick(\u001b[33m\"\u001b[39m\u001b[33m123123\u001b[39m\u001b[33m\"\u001b[39m)\n\u001b[32m----> \u001b[39m\u001b[32m4\u001b[39m \u001b[38;5;129m@my_llm\u001b[39m\u001b[43m.\u001b[49m\u001b[43mbidi_streaming\u001b[49m\u001b[43m(\u001b[49m\u001b[43m)\u001b[49m\n\u001b[32m      5\u001b[39m \u001b[38;5;28;01masync\u001b[39;00m \u001b[38;5;28;01mdef\u001b[39;00m\u001b[38;5;250m \u001b[39m\u001b[34mbidi_streaming_handler\u001b[39m(input_stream):\n\u001b[32m      6\u001b[39m     \u001b[38;5;28;01masync\u001b[39;00m \u001b[38;5;28;01mfor\u001b[39;00m input_data \u001b[38;5;129;01min\u001b[39;00m input_stream:\n\u001b[32m      7\u001b[39m         \u001b[38;5;28;01myield\u001b[39;00m \u001b[33mf\u001b[39m\u001b[33m\"\u001b[39m\u001b[33mProcessed: \u001b[39m\u001b[38;5;132;01m{\u001b[39;00minput_data\u001b[38;5;132;01m}\u001b[39;00m\u001b[33m\"\u001b[39m\n",
      "\u001b[36mFile \u001b[39m\u001b[32m~/Projects/Dev/llmbrick/.conda/lib/python3.11/site-packages/deprecated/classic.py:199\u001b[39m, in \u001b[36mClassicAdapter.__call__.<locals>.wrapper_function\u001b[39m\u001b[34m(wrapped_, instance_, args_, kwargs_)\u001b[39m\n\u001b[32m    197\u001b[39m \u001b[38;5;28;01melse\u001b[39;00m:\n\u001b[32m    198\u001b[39m     warnings.warn(msg, category=\u001b[38;5;28mself\u001b[39m.category, stacklevel=stacklevel)\n\u001b[32m--> \u001b[39m\u001b[32m199\u001b[39m \u001b[38;5;28;01mreturn\u001b[39;00m \u001b[43mwrapped_\u001b[49m\u001b[43m(\u001b[49m\u001b[43m*\u001b[49m\u001b[43margs_\u001b[49m\u001b[43m,\u001b[49m\u001b[43m \u001b[49m\u001b[43m*\u001b[49m\u001b[43m*\u001b[49m\u001b[43mkwargs_\u001b[49m\u001b[43m)\u001b[49m\n",
      "\u001b[36mFile \u001b[39m\u001b[32m~/Projects/Dev/llmbrick/llmbrick/bricks/llm/base_llm.py:36\u001b[39m, in \u001b[36mLLMBrick.bidi_streaming\u001b[39m\u001b[34m(self)\u001b[39m\n\u001b[32m     32\u001b[39m \u001b[38;5;250m\u001b[39m\u001b[33;03m\"\"\"\u001b[39;00m\n\u001b[32m     33\u001b[39m \u001b[33;03mDeprecated: LLMBrick only supports unary and output_streaming handlers, input_streaming and bidi_streaming are not applicable.\u001b[39;00m\n\u001b[32m     34\u001b[39m \u001b[33;03m\"\"\"\u001b[39;00m\n\u001b[32m     35\u001b[39m warnings.warn(\u001b[33m\"\u001b[39m\u001b[33mLLMBrick does not support bidi_streaming handler.\u001b[39m\u001b[33m\"\u001b[39m, \u001b[38;5;167;01mPendingDeprecationWarning\u001b[39;00m)\n\u001b[32m---> \u001b[39m\u001b[32m36\u001b[39m \u001b[38;5;28;01mraise\u001b[39;00m \u001b[38;5;167;01mNotImplementedError\u001b[39;00m(\u001b[33m\"\u001b[39m\u001b[33mLLMBrick does not support bidi_streaming handler.\u001b[39m\u001b[33m\"\u001b[39m)\n",
      "\u001b[31mNotImplementedError\u001b[39m: LLMBrick does not support bidi_streaming handler."
     ]
    }
   ],
   "source": [
    "from llmbrick.bricks.llm.base_llm import LLMBrick\n",
    "\n",
    "my_llm = LLMBrick(\"123123\")\n",
    "@my_llm.bidi_streaming()\n",
    "async def bidi_streaming_handler(input_stream):\n",
    "    async for input_data in input_stream:\n",
    "        yield f\"Processed: {input_data}\"\n"
   ]
  },
  {
   "cell_type": "markdown",
   "id": "3bac2a60",
   "metadata": {},
   "source": [
    "# Logging"
   ]
  },
  {
   "cell_type": "code",
   "execution_count": 4,
   "id": "d2e0ca04",
   "metadata": {},
   "outputs": [
    {
     "name": "stderr",
     "output_type": "stream",
     "text": [
      "\u001b[32m2025-07-24 20:48:26\u001b[0m | \u001b[1mINFO    2301058\u001b[0m | \u001b[36mllmbrick\u001b[0m:\u001b[36msync_wrapper\u001b[0m:\u001b[36m122\u001b[0m - \u001b[1m[math_service] [add] input: args=(1, 2), kwargs={}\u001b[0m\n",
      "\u001b[32m2025-07-24 20:48:26\u001b[0m | \u001b[1mINFO    2301058\u001b[0m | \u001b[36mllmbrick\u001b[0m:\u001b[36msync_wrapper\u001b[0m:\u001b[36m126\u001b[0m - \u001b[1m[math_service] [add] output: 3\u001b[0m\n",
      "\u001b[32m2025-07-24 20:48:26\u001b[0m | \u001b[33m\u001b[1mWARNING 2301058\u001b[0m | \u001b[36mllmbrick\u001b[0m:\u001b[36msync_wrapper\u001b[0m:\u001b[36m122\u001b[0m - \u001b[33m\u001b[1m[math_service] [subtract] input: args=(5, 3), kwargs={}\u001b[0m\n",
      "\u001b[32m2025-07-24 20:48:26\u001b[0m | \u001b[33m\u001b[1mWARNING 2301058\u001b[0m | \u001b[36mllmbrick\u001b[0m:\u001b[36msync_wrapper\u001b[0m:\u001b[36m126\u001b[0m - \u001b[33m\u001b[1m[math_service] [subtract] output: 2\u001b[0m\n",
      "\u001b[32m2025-07-24 20:48:26\u001b[0m | \u001b[31m\u001b[1mERROR   2301058\u001b[0m | \u001b[36mllmbrick\u001b[0m:\u001b[36msync_wrapper\u001b[0m:\u001b[36m122\u001b[0m - \u001b[31m\u001b[1m[math_service] [divide] input: args=(10, 0), kwargs={}\u001b[0m\n",
      "\u001b[32m2025-07-24 20:48:26\u001b[0m | \u001b[31m\u001b[1mERROR   2301058\u001b[0m | \u001b[36mllmbrick\u001b[0m:\u001b[36msync_wrapper\u001b[0m:\u001b[36m130\u001b[0m - \u001b[31m\u001b[1m[math_service] [divide] exception: Division by zero is not allowed.\u001b[0m\n"
     ]
    },
    {
     "name": "stdout",
     "output_type": "stream",
     "text": [
      "Error occurred: Division by zero is not allowed.\n"
     ]
    }
   ],
   "source": [
    "from llmbrick.utils.logging import log_function\n",
    "\n",
    "# info: This will log the function call with the specified service name and level.\n",
    "@log_function(service_name=\"math_service\", level=\"info\")\n",
    "def add(a: int, b: int) -> int:\n",
    "    return a + b\n",
    "\n",
    "r1 = add(1, 2)\n",
    "\n",
    "# warning: This will log the function call with the specified service name and level.\n",
    "@log_function(service_name=\"math_service\", level=\"warning\")\n",
    "def subtract(a: int, b: int) -> int:\n",
    "    return a - b\n",
    "\n",
    "r2 = subtract(5, 3)\n",
    "\n",
    "\n",
    "# error: This will log the function\n",
    "@log_function(service_name=\"math_service\", level=\"error\")\n",
    "def divide(a: int, b: int) -> float:\n",
    "    if b == 0:\n",
    "        raise ValueError(\"Division by zero is not allowed.\")\n",
    "    return a / b\n",
    "\n",
    "try:\n",
    "    r2 = divide(10, 0)\n",
    "except ValueError as e:\n",
    "    print(f\"Error occurred: {e}\")  "
   ]
  },
  {
   "cell_type": "markdown",
   "id": "91737a6b",
   "metadata": {},
   "source": []
  }
 ],
 "metadata": {
  "kernelspec": {
   "display_name": "Python 3",
   "language": "python",
   "name": "python3"
  },
  "language_info": {
   "codemirror_mode": {
    "name": "ipython",
    "version": 3
   },
   "file_extension": ".py",
   "mimetype": "text/x-python",
   "name": "python",
   "nbconvert_exporter": "python",
   "pygments_lexer": "ipython3",
   "version": "3.11.13"
  }
 },
 "nbformat": 4,
 "nbformat_minor": 5
}
