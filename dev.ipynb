{
 "cells": [
  {
   "cell_type": "markdown",
   "id": "646fa552",
   "metadata": {},
   "source": [
    "# Brick"
   ]
  },
  {
   "cell_type": "code",
   "execution_count": 3,
   "id": "b04922a3",
   "metadata": {},
   "outputs": [
    {
     "name": "stderr",
     "output_type": "stream",
     "text": [
      "\u001b[32m2025-07-22 17:50:42\u001b[0m | \u001b[1mINFO    2047943\u001b[0m | \u001b[36mllmbrick\u001b[0m:\u001b[36masync_wrapper\u001b[0m:\u001b[36m108\u001b[0m - \u001b[1m[LLMBrick-Unary] [wrapper] input: args=('What is your name? ',), kwargs={}\u001b[0m\n",
      "\u001b[32m2025-07-22 17:50:42\u001b[0m | \u001b[1mINFO    2047943\u001b[0m | \u001b[36mllmbrick\u001b[0m:\u001b[36masync_wrapper\u001b[0m:\u001b[36m112\u001b[0m - \u001b[1m[LLMBrick-Unary] [wrapper] output: user input: What is your name? \u001b[0m\n"
     ]
    },
    {
     "name": "stdout",
     "output_type": "stream",
     "text": [
      "user input: What is your name? \n"
     ]
    }
   ],
   "source": [
    "from llmbrick.core.brick import BaseBrick\n",
    "import nest_asyncio\n",
    "\n",
    "class LLMBrick(BaseBrick[str, str]):\n",
    "    pass\n",
    "\n",
    "\n",
    "llm = LLMBrick()\n",
    "\n",
    "@llm.unary()\n",
    "async def input(prompt: str) -> str:\n",
    "    \"\"\"\n",
    "    Input a string from the user.\n",
    "\n",
    "    Args:\n",
    "        prompt (str): The prompt to display to the user.\n",
    "\n",
    "    Returns:\n",
    "        str: The input string provided by the user.\n",
    "    \"\"\"\n",
    "    return f\"user input: {prompt}\"\n",
    "\n",
    "\n",
    "    # 在 Jupyter Notebook 中運行 async 函數可以使用 asyncio.run 或 nest_asyncio\n",
    "nest_asyncio.apply()\n",
    "\n",
    "result = await llm.run_unary(\"What is your name? \")\n",
    "print(result)\n"
   ]
  },
  {
   "cell_type": "code",
   "execution_count": null,
   "id": "370ba341",
   "metadata": {},
   "outputs": [],
   "source": [
    "result = await llm.run_unary(\"請輸入內容：\")\n",
    "print(result)"
   ]
  },
  {
   "cell_type": "code",
   "execution_count": null,
   "id": "ce7a1c49",
   "metadata": {},
   "outputs": [],
   "source": []
  },
  {
   "cell_type": "markdown",
   "id": "3bac2a60",
   "metadata": {},
   "source": [
    "# Logging"
   ]
  },
  {
   "cell_type": "code",
   "execution_count": null,
   "id": "d2e0ca04",
   "metadata": {},
   "outputs": [],
   "source": [
    "from llmbrick.utils.logging import log_function\n",
    "\n",
    "# info: This will log the function call with the specified service name and level.\n",
    "@log_function(service_name=\"math_service\", level=\"info\")\n",
    "def add(a: int, b: int) -> int:\n",
    "    return a + b\n",
    "\n",
    "r1 = add(1, 2)\n",
    "\n",
    "# warning: This will log the function call with the specified service name and level.\n",
    "@log_function(service_name=\"math_service\", level=\"warning\")\n",
    "def subtract(a: int, b: int) -> int:\n",
    "    return a - b\n",
    "\n",
    "r2 = subtract(5, 3)\n",
    "\n",
    "\n",
    "# error: This will log the function\n",
    "@log_function(service_name=\"math_service\", level=\"error\")\n",
    "def divide(a: int, b: int) -> float:\n",
    "    if b == 0:\n",
    "        raise ValueError(\"Division by zero is not allowed.\")\n",
    "    return a / b\n",
    "\n",
    "try:\n",
    "    r2 = divide(10, 0)\n",
    "except ValueError as e:\n",
    "    print(f\"Error occurred: {e}\")  "
   ]
  },
  {
   "cell_type": "markdown",
   "id": "91737a6b",
   "metadata": {},
   "source": []
  }
 ],
 "metadata": {
  "kernelspec": {
   "display_name": "Python 3",
   "language": "python",
   "name": "python3"
  },
  "language_info": {
   "codemirror_mode": {
    "name": "ipython",
    "version": 3
   },
   "file_extension": ".py",
   "mimetype": "text/x-python",
   "name": "python",
   "nbconvert_exporter": "python",
   "pygments_lexer": "ipython3",
   "version": "3.11.13"
  }
 },
 "nbformat": 4,
 "nbformat_minor": 5
}
